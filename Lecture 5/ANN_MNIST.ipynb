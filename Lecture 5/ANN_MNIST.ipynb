{
 "cells": [
  {
   "cell_type": "code",
   "execution_count": 1,
   "metadata": {
    "collapsed": true
   },
   "outputs": [],
   "source": [
    "import tensorflow as tf\n",
    "import numpy as np\n",
    "from tensorflow.contrib.layers import fully_connected\n",
    "from tensorflow.contrib.layers import batch_norm\n",
    "from tensorflow.examples.tutorials.mnist import input_data\n",
    "from skimage import transform\n",
    "import warnings"
   ]
  },
  {
   "cell_type": "code",
   "execution_count": 2,
   "metadata": {},
   "outputs": [
    {
     "name": "stdout",
     "output_type": "stream",
     "text": [
      "Extracting data\\train-images-idx3-ubyte.gz\n",
      "Extracting data\\train-labels-idx1-ubyte.gz\n",
      "Extracting data\\t10k-images-idx3-ubyte.gz\n",
      "Extracting data\\t10k-labels-idx1-ubyte.gz\n"
     ]
    }
   ],
   "source": [
    "warnings.simplefilter('ignore')\n",
    "mnist = input_data.read_data_sets(\"data\")\n",
    "tf.reset_default_graph()"
   ]
  },
  {
   "cell_type": "code",
   "execution_count": 12,
   "metadata": {
    "collapsed": true
   },
   "outputs": [],
   "source": [
    "tf.reset_default_graph()\n",
    "image_size=28\n",
    "n_inputs = 28*28 # MNIST\n",
    "n_hidden1 = 700\n",
    "n_hidden2 = 500\n",
    "n_hidden3=400\n",
    "n_hidden4=300\n",
    "n_hidden5=200\n",
    "n_hidden6=100\n",
    "n_hidden7=20\n",
    "n_outputs = 10\n",
    "\n",
    "\n",
    "X = tf.placeholder(tf.float32, shape=(None, n_inputs), name=\"X\")\n",
    "y = tf.placeholder(tf.int64, shape=(None), name=\"y\")\n",
    "\n",
    "is_training = tf.placeholder(tf.bool, shape=(), name='is_training')\n",
    "bn_params = {\n",
    "        'is_training': is_training,\n",
    "        'decay': 0.99,\n",
    "        'updates_collections': None\n",
    "        }\n",
    "\n"
   ]
  },
  {
   "cell_type": "code",
   "execution_count": 13,
   "metadata": {
    "collapsed": true
   },
   "outputs": [],
   "source": [
    "with tf.name_scope(\"dnn\"):\n",
    "#    hidden1 = fully_connected(X, n_hidden1, scope=\"hidden1\")\n",
    "#    hidden2 = fully_connected(hidden1, n_hidden2, scope=\"hidden2\")\n",
    "#    logits = fully_connected(hidden2, n_outputs, scope=\"outputs\",\n",
    "#                             activation_fn=None)\n",
    "    hidden1 = fully_connected(X, n_hidden1, scope=\"hidden1\",\n",
    "                              normalizer_fn=batch_norm, normalizer_params=bn_params)\n",
    "    hidden2 = fully_connected(hidden1, n_hidden2, scope=\"hidden2\",\n",
    "                              normalizer_fn=batch_norm, normalizer_params=bn_params)\n",
    "    hidden3 = fully_connected(hidden2, n_hidden3, scope=\"hidden3\",\n",
    "                              normalizer_fn=batch_norm, normalizer_params=bn_params)\n",
    "    hidden4 = fully_connected(hidden3, n_hidden4, scope=\"hidden4\",\n",
    "                              normalizer_fn=batch_norm, normalizer_params=bn_params)\n",
    "    hidden5 = fully_connected(hidden4, n_hidden5, scope=\"hidden5\",\n",
    "                              normalizer_fn=batch_norm, normalizer_params=bn_params)\n",
    "    hidden6 = fully_connected(hidden5, n_hidden6, scope=\"hidden6\",\n",
    "                              normalizer_fn=batch_norm, normalizer_params=bn_params)\n",
    "    hidden7 = fully_connected(hidden6, n_hidden7, scope=\"hidden7\",\n",
    "                              normalizer_fn=batch_norm, normalizer_params=bn_params)\n",
    "    logits = fully_connected(hidden7, n_outputs, activation_fn=None,scope=\"outputs\",\n",
    "                             normalizer_fn=batch_norm, normalizer_params=bn_params)\n"
   ]
  },
  {
   "cell_type": "code",
   "execution_count": 14,
   "metadata": {
    "collapsed": true
   },
   "outputs": [],
   "source": [
    "with tf.name_scope(\"loss\"):\n",
    "    xentropy = tf.nn.sparse_softmax_cross_entropy_with_logits(\n",
    "            labels=y, logits=logits)\n",
    "    loss = tf.reduce_mean(xentropy, name=\"loss\")"
   ]
  },
  {
   "cell_type": "code",
   "execution_count": 15,
   "metadata": {
    "collapsed": true
   },
   "outputs": [],
   "source": [
    "learning_rate = 0.001\n",
    "\n",
    "with tf.name_scope(\"train\"):\n",
    "#    optimizer = tf.train.GradientDescentOptimizer(learning_rate)\n",
    "    optimizer=tf.train.AdamOptimizer(learning_rate=learning_rate)\n",
    "    training_op = optimizer.minimize(loss)\n",
    "\n",
    "with tf.name_scope(\"eval\"):\n",
    "    correct = tf.nn.in_top_k(logits, y, 1)\n",
    "    accuracy = tf.reduce_mean(tf.cast(correct, tf.float32))"
   ]
  },
  {
   "cell_type": "code",
   "execution_count": 16,
   "metadata": {
    "collapsed": true
   },
   "outputs": [],
   "source": [
    "init = tf.global_variables_initializer()\n",
    "n_epochs = 100000\n",
    "batch_size = 3000"
   ]
  },
  {
   "cell_type": "code",
   "execution_count": 17,
   "metadata": {
    "scrolled": true
   },
   "outputs": [
    {
     "name": "stdout",
     "output_type": "stream",
     "text": [
      "0 Train accuracy: 0.803814854059 Test accuracy: 0.8678\n",
      "1 Train accuracy: 0.950703766611 Test accuracy: 0.9435\n",
      "2 Train accuracy: 0.971203757657 Test accuracy: 0.9539\n",
      "3 Train accuracy: 0.982388916943 Test accuracy: 0.956\n",
      "4 Train accuracy: 0.988425970078 Test accuracy: 0.9563\n",
      "5 Train accuracy: 0.992722292741 Test accuracy: 0.9494\n",
      "6 Train accuracy: 0.995444526275 Test accuracy: 0.949\n",
      "7 Train accuracy: 0.997092700667 Test accuracy: 0.9502\n",
      "8 Train accuracy: 0.998092687792 Test accuracy: 0.9566\n",
      "9 Train accuracy: 0.998463074366 Test accuracy: 0.9629\n",
      "10 Train accuracy: 0.999037133323 Test accuracy: 0.9687\n",
      "11 Train accuracy: 0.999111202028 Test accuracy: 0.9709\n",
      "12 Train accuracy: 0.999388986164 Test accuracy: 0.9748\n",
      "13 Train accuracy: 0.999426003959 Test accuracy: 0.9745\n",
      "14 Train accuracy: 0.999518622955 Test accuracy: 0.9773\n",
      "15 Train accuracy: 0.999740855561 Test accuracy: 0.9787\n",
      "16 Train accuracy: 0.999666776922 Test accuracy: 0.9789\n",
      "17 Train accuracy: 0.99979640709 Test accuracy: 0.9804\n",
      "18 Train accuracy: 0.999685310655 Test accuracy: 0.981\n",
      "19 Train accuracy: 0.999796393845 Test accuracy: 0.9809\n",
      "20 Train accuracy: 0.999703804652 Test accuracy: 0.9819\n",
      "21 Train accuracy: 0.999796413713 Test accuracy: 0.981\n",
      "22 Train accuracy: 0.999722321828 Test accuracy: 0.9819\n",
      "23 Train accuracy: 0.999888999595 Test accuracy: 0.9817\n",
      "24 Train accuracy: 0.99979640709 Test accuracy: 0.9816\n",
      "25 Train accuracy: 0.999777889914 Test accuracy: 0.9809\n",
      "26 Train accuracy: 0.999888999595 Test accuracy: 0.9814\n",
      "27 Train accuracy: 0.999889009529 Test accuracy: 0.9812\n",
      "28 Train accuracy: 0.999851965242 Test accuracy: 0.9813\n",
      "29 Train accuracy: 0.999926047193 Test accuracy: 0.9814\n",
      "30 Train accuracy: 0.999907526705 Test accuracy: 0.9817\n",
      "31 Train accuracy: 0.999870489041 Test accuracy: 0.9815\n",
      "32 Train accuracy: 0.99992604057 Test accuracy: 0.9814\n",
      "33 Train accuracy: 0.999907526705 Test accuracy: 0.9815\n",
      "34 Train accuracy: 0.999907520082 Test accuracy: 0.9817\n",
      "35 Train accuracy: 0.999851978487 Test accuracy: 0.9814\n",
      "36 Train accuracy: 0.999963078234 Test accuracy: 0.9818\n",
      "37 Train accuracy: 0.999926037259 Test accuracy: 0.9817\n",
      "38 Train accuracy: 0.999907526705 Test accuracy: 0.9814\n",
      "39 Train accuracy: 0.999944561058 Test accuracy: 0.9817\n",
      "40 Train accuracy: 0.999907526705 Test accuracy: 0.9815\n",
      "41 Train accuracy: 0.999981602033 Test accuracy: 0.9818\n",
      "42 Train accuracy: 0.999963084857 Test accuracy: 0.982\n",
      "43 Train accuracy: 0.999963074923 Test accuracy: 0.9823\n",
      "44 Train accuracy: 0.99998159541 Test accuracy: 0.9817\n",
      "45 Train accuracy: 0.999981602033 Test accuracy: 0.9817\n",
      "46 Train accuracy: 0.999963074923 Test accuracy: 0.9819\n",
      "47 Train accuracy: 0.999981602033 Test accuracy: 0.9818\n",
      "48 Train accuracy: 0.999963084857 Test accuracy: 0.9818\n",
      "49 Train accuracy: 0.999981602033 Test accuracy: 0.9817\n",
      "50 Train accuracy: 0.999963074923 Test accuracy: 0.9817\n",
      "51 Train accuracy: 0.999963078234 Test accuracy: 0.9816\n",
      "52 Train accuracy: 0.999963078234 Test accuracy: 0.9813\n",
      "53 Train accuracy: 0.99998159541 Test accuracy: 0.9814\n",
      "54 Train accuracy: 0.999981602033 Test accuracy: 0.9819\n",
      "55 Train accuracy: 0.999981598722 Test accuracy: 0.9812\n",
      "56 Train accuracy: 0.999981602033 Test accuracy: 0.9817\n",
      "57 Train accuracy: 0.999981602033 Test accuracy: 0.9818\n",
      "58 Train accuracy: 0.999981602033 Test accuracy: 0.9816\n",
      "59 Train accuracy: 1.00000011921 Test accuracy: 0.9816\n",
      "60 Train accuracy: 0.999963084857 Test accuracy: 0.9817\n",
      "61 Train accuracy: 0.999981602033 Test accuracy: 0.9815\n",
      "62 Train accuracy: 0.999981602033 Test accuracy: 0.9818\n",
      "63 Train accuracy: 0.99998159541 Test accuracy: 0.9819\n",
      "64 Train accuracy: 1.00000011921 Test accuracy: 0.9817\n",
      "65 Train accuracy: 0.999963074923 Test accuracy: 0.982\n",
      "66 Train accuracy: 1.00000011921 Test accuracy: 0.9819\n",
      "67 Train accuracy: 0.999963081545 Test accuracy: 0.9825\n",
      "68 Train accuracy: 0.999981602033 Test accuracy: 0.9818\n",
      "69 Train accuracy: 0.999981602033 Test accuracy: 0.9818\n",
      "70 Train accuracy: 1.00000011921 Test accuracy: 0.9817\n",
      "71 Train accuracy: 0.999963074923 Test accuracy: 0.9822\n",
      "72 Train accuracy: 0.99998159541 Test accuracy: 0.9815\n",
      "73 Train accuracy: 1.00000011921 Test accuracy: 0.9818\n",
      "74 Train accuracy: 0.99998159541 Test accuracy: 0.9818\n",
      "75 Train accuracy: 0.999981602033 Test accuracy: 0.9817\n",
      "76 Train accuracy: 1.00000011921 Test accuracy: 0.9817\n",
      "77 Train accuracy: 1.00000011921 Test accuracy: 0.9817\n",
      "78 Train accuracy: 1.00000011921 Test accuracy: 0.9818\n",
      "79 Train accuracy: 1.00000011921 Test accuracy: 0.9822\n",
      "80 Train accuracy: 1.00000011921 Test accuracy: 0.9824\n",
      "81 Train accuracy: 1.00000011921 Test accuracy: 0.9822\n",
      "82 Train accuracy: 1.00000011921 Test accuracy: 0.9821\n",
      "83 Train accuracy: 1.00000011921 Test accuracy: 0.9822\n",
      "84 Train accuracy: 1.00000011921 Test accuracy: 0.9821\n",
      "85 Train accuracy: 1.00000011259 Test accuracy: 0.9824\n",
      "86 Train accuracy: 1.00000011921 Test accuracy: 0.982\n",
      "87 Train accuracy: 1.00000011921 Test accuracy: 0.9821\n",
      "88 Train accuracy: 1.00000011921 Test accuracy: 0.9824\n",
      "89 Train accuracy: 1.00000011921 Test accuracy: 0.9821\n",
      "90 Train accuracy: 1.00000011921 Test accuracy: 0.9817\n",
      "91 Train accuracy: 1.00000011921 Test accuracy: 0.982\n",
      "92 Train accuracy: 1.00000011921 Test accuracy: 0.9817\n",
      "93 Train accuracy: 1.00000011921 Test accuracy: 0.9819\n",
      "94 Train accuracy: 1.00000011921 Test accuracy: 0.9818\n",
      "95 Train accuracy: 1.00000011921 Test accuracy: 0.9817\n",
      "96 Train accuracy: 0.999981602033 Test accuracy: 0.9819\n",
      "97 Train accuracy: 1.00000011921 Test accuracy: 0.9819\n",
      "98 Train accuracy: 1.00000011921 Test accuracy: 0.9818\n",
      "99 Train accuracy: 1.00000011921 Test accuracy: 0.9822\n",
      "100 Train accuracy: 1.00000011921 Test accuracy: 0.9822\n",
      "101 Train accuracy: 1.00000011921 Test accuracy: 0.9819\n",
      "102 Train accuracy: 1.00000011921 Test accuracy: 0.9823\n",
      "103 Train accuracy: 1.00000011921 Test accuracy: 0.9819\n",
      "104 Train accuracy: 1.00000011921 Test accuracy: 0.9816\n",
      "105 Train accuracy: 1.00000011921 Test accuracy: 0.982\n",
      "106 Train accuracy: 1.00000011259 Test accuracy: 0.9823\n",
      "107 Train accuracy: 1.00000011921 Test accuracy: 0.982\n",
      "108 Train accuracy: 1.00000011921 Test accuracy: 0.9818\n",
      "109 Train accuracy: 1.00000011921 Test accuracy: 0.9819\n",
      "110 Train accuracy: 1.00000011921 Test accuracy: 0.9819\n",
      "111 Train accuracy: 1.00000011921 Test accuracy: 0.9821\n",
      "112 Train accuracy: 1.00000011921 Test accuracy: 0.9819\n",
      "113 Train accuracy: 1.00000011921 Test accuracy: 0.9819\n",
      "114 Train accuracy: 1.00000011921 Test accuracy: 0.9823\n",
      "115 Train accuracy: 1.00000011921 Test accuracy: 0.9815\n",
      "116 Train accuracy: 1.00000011921 Test accuracy: 0.9823\n",
      "117 Train accuracy: 1.00000011921 Test accuracy: 0.982\n",
      "118 Train accuracy: 1.00000011921 Test accuracy: 0.9821\n",
      "119 Train accuracy: 1.00000011921 Test accuracy: 0.9817\n",
      "120 Train accuracy: 1.00000011921 Test accuracy: 0.9818\n",
      "121 Train accuracy: 1.00000011921 Test accuracy: 0.9822\n",
      "122 Train accuracy: 1.00000011921 Test accuracy: 0.9819\n",
      "123 Train accuracy: 1.00000011921 Test accuracy: 0.9814\n",
      "124 Train accuracy: 1.00000011921 Test accuracy: 0.9816\n",
      "125 Train accuracy: 1.00000011259 Test accuracy: 0.9818\n",
      "126 Train accuracy: 1.00000011921 Test accuracy: 0.9817\n",
      "127 Train accuracy: 1.00000011259 Test accuracy: 0.9821\n",
      "128 Train accuracy: 1.00000011921 Test accuracy: 0.9817\n",
      "129 Train accuracy: 1.00000011921 Test accuracy: 0.9822\n",
      "130 Train accuracy: 1.00000011921 Test accuracy: 0.982\n",
      "131 Train accuracy: 1.00000011921 Test accuracy: 0.9821\n",
      "132 Train accuracy: 1.00000011921 Test accuracy: 0.9823\n",
      "133 Train accuracy: 1.00000011921 Test accuracy: 0.9819\n",
      "134 Train accuracy: 1.00000011921 Test accuracy: 0.982\n",
      "135 Train accuracy: 1.00000011921 Test accuracy: 0.9823\n",
      "136 Train accuracy: 1.00000011921 Test accuracy: 0.9815\n",
      "137 Train accuracy: 1.00000011921 Test accuracy: 0.9821\n",
      "138 Train accuracy: 1.00000011921 Test accuracy: 0.9825\n",
      "139 Train accuracy: 1.00000011921 Test accuracy: 0.982\n",
      "140 Train accuracy: 1.00000011921 Test accuracy: 0.9821\n",
      "141 Train accuracy: 1.00000011921 Test accuracy: 0.9821\n",
      "142 Train accuracy: 1.00000011921 Test accuracy: 0.9816\n",
      "143 Train accuracy: 1.00000011921 Test accuracy: 0.9815\n",
      "144 Train accuracy: 1.00000011921 Test accuracy: 0.9819\n",
      "145 Train accuracy: 1.00000011921 Test accuracy: 0.9822\n",
      "146 Train accuracy: 1.00000011921 Test accuracy: 0.9821\n",
      "147 Train accuracy: 1.00000011921 Test accuracy: 0.9814\n"
     ]
    },
    {
     "name": "stdout",
     "output_type": "stream",
     "text": [
      "148 Train accuracy: 1.00000011921 Test accuracy: 0.9813\n",
      "149 Train accuracy: 1.00000011921 Test accuracy: 0.9815\n"
     ]
    },
    {
     "ename": "KeyboardInterrupt",
     "evalue": "",
     "output_type": "error",
     "traceback": [
      "\u001b[1;31m---------------------------------------------------------------------------\u001b[0m",
      "\u001b[1;31mKeyboardInterrupt\u001b[0m                         Traceback (most recent call last)",
      "\u001b[1;32m<ipython-input-17-54a0094d2acb>\u001b[0m in \u001b[0;36m<module>\u001b[1;34m()\u001b[0m\n\u001b[0;32m      6\u001b[0m         \u001b[1;32mfor\u001b[0m \u001b[0miteration\u001b[0m \u001b[1;32min\u001b[0m \u001b[0mrange\u001b[0m\u001b[1;33m(\u001b[0m\u001b[0mmnist\u001b[0m\u001b[1;33m.\u001b[0m\u001b[0mtrain\u001b[0m\u001b[1;33m.\u001b[0m\u001b[0mnum_examples\u001b[0m \u001b[1;33m//\u001b[0m \u001b[0mbatch_size\u001b[0m\u001b[1;33m)\u001b[0m\u001b[1;33m:\u001b[0m\u001b[1;33m\u001b[0m\u001b[0m\n\u001b[0;32m      7\u001b[0m             \u001b[0mX_batch\u001b[0m\u001b[1;33m,\u001b[0m \u001b[0my_batch\u001b[0m \u001b[1;33m=\u001b[0m \u001b[0mmnist\u001b[0m\u001b[1;33m.\u001b[0m\u001b[0mtrain\u001b[0m\u001b[1;33m.\u001b[0m\u001b[0mnext_batch\u001b[0m\u001b[1;33m(\u001b[0m\u001b[0mbatch_size\u001b[0m\u001b[1;33m)\u001b[0m\u001b[1;33m\u001b[0m\u001b[0m\n\u001b[1;32m----> 8\u001b[1;33m             \u001b[0mRR\u001b[0m\u001b[1;33m,\u001b[0m\u001b[0macc_train\u001b[0m\u001b[1;33m=\u001b[0m\u001b[0msess\u001b[0m\u001b[1;33m.\u001b[0m\u001b[0mrun\u001b[0m\u001b[1;33m(\u001b[0m\u001b[1;33m[\u001b[0m\u001b[0mtraining_op\u001b[0m\u001b[1;33m,\u001b[0m \u001b[0maccuracy\u001b[0m\u001b[1;33m]\u001b[0m\u001b[1;33m,\u001b[0m \u001b[0mfeed_dict\u001b[0m\u001b[1;33m=\u001b[0m\u001b[1;33m{\u001b[0m\u001b[0mis_training\u001b[0m\u001b[1;33m:\u001b[0m \u001b[1;32mTrue\u001b[0m\u001b[1;33m,\u001b[0m\u001b[0mX\u001b[0m\u001b[1;33m:\u001b[0m \u001b[0mX_batch\u001b[0m\u001b[1;33m,\u001b[0m \u001b[0my\u001b[0m\u001b[1;33m:\u001b[0m \u001b[0my_batch\u001b[0m\u001b[1;33m}\u001b[0m\u001b[1;33m)\u001b[0m\u001b[1;33m\u001b[0m\u001b[0m\n\u001b[0m\u001b[0;32m      9\u001b[0m             \u001b[0mn\u001b[0m\u001b[1;33m+=\u001b[0m\u001b[0macc_train\u001b[0m\u001b[1;33m\u001b[0m\u001b[0m\n\u001b[0;32m     10\u001b[0m         acc_test = accuracy.eval(feed_dict={is_training:False,\n",
      "\u001b[1;32mC:\\Users\\Fatboy\\AppData\\Local\\conda\\conda\\envs\\TT\\lib\\site-packages\\tensorflow\\python\\client\\session.py\u001b[0m in \u001b[0;36mrun\u001b[1;34m(self, fetches, feed_dict, options, run_metadata)\u001b[0m\n\u001b[0;32m    776\u001b[0m     \u001b[1;32mtry\u001b[0m\u001b[1;33m:\u001b[0m\u001b[1;33m\u001b[0m\u001b[0m\n\u001b[0;32m    777\u001b[0m       result = self._run(None, fetches, feed_dict, options_ptr,\n\u001b[1;32m--> 778\u001b[1;33m                          run_metadata_ptr)\n\u001b[0m\u001b[0;32m    779\u001b[0m       \u001b[1;32mif\u001b[0m \u001b[0mrun_metadata\u001b[0m\u001b[1;33m:\u001b[0m\u001b[1;33m\u001b[0m\u001b[0m\n\u001b[0;32m    780\u001b[0m         \u001b[0mproto_data\u001b[0m \u001b[1;33m=\u001b[0m \u001b[0mtf_session\u001b[0m\u001b[1;33m.\u001b[0m\u001b[0mTF_GetBuffer\u001b[0m\u001b[1;33m(\u001b[0m\u001b[0mrun_metadata_ptr\u001b[0m\u001b[1;33m)\u001b[0m\u001b[1;33m\u001b[0m\u001b[0m\n",
      "\u001b[1;32mC:\\Users\\Fatboy\\AppData\\Local\\conda\\conda\\envs\\TT\\lib\\site-packages\\tensorflow\\python\\client\\session.py\u001b[0m in \u001b[0;36m_run\u001b[1;34m(self, handle, fetches, feed_dict, options, run_metadata)\u001b[0m\n\u001b[0;32m    980\u001b[0m     \u001b[1;32mif\u001b[0m \u001b[0mfinal_fetches\u001b[0m \u001b[1;32mor\u001b[0m \u001b[0mfinal_targets\u001b[0m\u001b[1;33m:\u001b[0m\u001b[1;33m\u001b[0m\u001b[0m\n\u001b[0;32m    981\u001b[0m       results = self._do_run(handle, final_targets, final_fetches,\n\u001b[1;32m--> 982\u001b[1;33m                              feed_dict_string, options, run_metadata)\n\u001b[0m\u001b[0;32m    983\u001b[0m     \u001b[1;32melse\u001b[0m\u001b[1;33m:\u001b[0m\u001b[1;33m\u001b[0m\u001b[0m\n\u001b[0;32m    984\u001b[0m       \u001b[0mresults\u001b[0m \u001b[1;33m=\u001b[0m \u001b[1;33m[\u001b[0m\u001b[1;33m]\u001b[0m\u001b[1;33m\u001b[0m\u001b[0m\n",
      "\u001b[1;32mC:\\Users\\Fatboy\\AppData\\Local\\conda\\conda\\envs\\TT\\lib\\site-packages\\tensorflow\\python\\client\\session.py\u001b[0m in \u001b[0;36m_do_run\u001b[1;34m(self, handle, target_list, fetch_list, feed_dict, options, run_metadata)\u001b[0m\n\u001b[0;32m   1030\u001b[0m     \u001b[1;32mif\u001b[0m \u001b[0mhandle\u001b[0m \u001b[1;32mis\u001b[0m \u001b[1;32mNone\u001b[0m\u001b[1;33m:\u001b[0m\u001b[1;33m\u001b[0m\u001b[0m\n\u001b[0;32m   1031\u001b[0m       return self._do_call(_run_fn, self._session, feed_dict, fetch_list,\n\u001b[1;32m-> 1032\u001b[1;33m                            target_list, options, run_metadata)\n\u001b[0m\u001b[0;32m   1033\u001b[0m     \u001b[1;32melse\u001b[0m\u001b[1;33m:\u001b[0m\u001b[1;33m\u001b[0m\u001b[0m\n\u001b[0;32m   1034\u001b[0m       return self._do_call(_prun_fn, self._session, handle, feed_dict,\n",
      "\u001b[1;32mC:\\Users\\Fatboy\\AppData\\Local\\conda\\conda\\envs\\TT\\lib\\site-packages\\tensorflow\\python\\client\\session.py\u001b[0m in \u001b[0;36m_do_call\u001b[1;34m(self, fn, *args)\u001b[0m\n\u001b[0;32m   1037\u001b[0m   \u001b[1;32mdef\u001b[0m \u001b[0m_do_call\u001b[0m\u001b[1;33m(\u001b[0m\u001b[0mself\u001b[0m\u001b[1;33m,\u001b[0m \u001b[0mfn\u001b[0m\u001b[1;33m,\u001b[0m \u001b[1;33m*\u001b[0m\u001b[0margs\u001b[0m\u001b[1;33m)\u001b[0m\u001b[1;33m:\u001b[0m\u001b[1;33m\u001b[0m\u001b[0m\n\u001b[0;32m   1038\u001b[0m     \u001b[1;32mtry\u001b[0m\u001b[1;33m:\u001b[0m\u001b[1;33m\u001b[0m\u001b[0m\n\u001b[1;32m-> 1039\u001b[1;33m       \u001b[1;32mreturn\u001b[0m \u001b[0mfn\u001b[0m\u001b[1;33m(\u001b[0m\u001b[1;33m*\u001b[0m\u001b[0margs\u001b[0m\u001b[1;33m)\u001b[0m\u001b[1;33m\u001b[0m\u001b[0m\n\u001b[0m\u001b[0;32m   1040\u001b[0m     \u001b[1;32mexcept\u001b[0m \u001b[0merrors\u001b[0m\u001b[1;33m.\u001b[0m\u001b[0mOpError\u001b[0m \u001b[1;32mas\u001b[0m \u001b[0me\u001b[0m\u001b[1;33m:\u001b[0m\u001b[1;33m\u001b[0m\u001b[0m\n\u001b[0;32m   1041\u001b[0m       \u001b[0mmessage\u001b[0m \u001b[1;33m=\u001b[0m \u001b[0mcompat\u001b[0m\u001b[1;33m.\u001b[0m\u001b[0mas_text\u001b[0m\u001b[1;33m(\u001b[0m\u001b[0me\u001b[0m\u001b[1;33m.\u001b[0m\u001b[0mmessage\u001b[0m\u001b[1;33m)\u001b[0m\u001b[1;33m\u001b[0m\u001b[0m\n",
      "\u001b[1;32mC:\\Users\\Fatboy\\AppData\\Local\\conda\\conda\\envs\\TT\\lib\\site-packages\\tensorflow\\python\\client\\session.py\u001b[0m in \u001b[0;36m_run_fn\u001b[1;34m(session, feed_dict, fetch_list, target_list, options, run_metadata)\u001b[0m\n\u001b[0;32m   1019\u001b[0m         return tf_session.TF_Run(session, options,\n\u001b[0;32m   1020\u001b[0m                                  \u001b[0mfeed_dict\u001b[0m\u001b[1;33m,\u001b[0m \u001b[0mfetch_list\u001b[0m\u001b[1;33m,\u001b[0m \u001b[0mtarget_list\u001b[0m\u001b[1;33m,\u001b[0m\u001b[1;33m\u001b[0m\u001b[0m\n\u001b[1;32m-> 1021\u001b[1;33m                                  status, run_metadata)\n\u001b[0m\u001b[0;32m   1022\u001b[0m \u001b[1;33m\u001b[0m\u001b[0m\n\u001b[0;32m   1023\u001b[0m     \u001b[1;32mdef\u001b[0m \u001b[0m_prun_fn\u001b[0m\u001b[1;33m(\u001b[0m\u001b[0msession\u001b[0m\u001b[1;33m,\u001b[0m \u001b[0mhandle\u001b[0m\u001b[1;33m,\u001b[0m \u001b[0mfeed_dict\u001b[0m\u001b[1;33m,\u001b[0m \u001b[0mfetch_list\u001b[0m\u001b[1;33m)\u001b[0m\u001b[1;33m:\u001b[0m\u001b[1;33m\u001b[0m\u001b[0m\n",
      "\u001b[1;31mKeyboardInterrupt\u001b[0m: "
     ]
    }
   ],
   "source": [
    "n=0\n",
    "with tf.Session() as sess:\n",
    "    init.run()\n",
    "    for epoch in range(n_epochs):\n",
    "        n=0\n",
    "        for iteration in range(mnist.train.num_examples // batch_size):\n",
    "            X_batch, y_batch = mnist.train.next_batch(batch_size)\n",
    "            RR,acc_train=sess.run([training_op, accuracy], feed_dict={is_training: True,X: X_batch, y: y_batch})\n",
    "            n+=acc_train\n",
    "        acc_test = accuracy.eval(feed_dict={is_training:False,\n",
    "                                            X: mnist.test.images,\n",
    "                                            y: mnist.test.labels})\n",
    "        print(epoch, \"Train accuracy:\", n/(mnist.train.num_examples // batch_size), \n",
    "              \"Test accuracy:\", acc_test)\n",
    "        "
   ]
  },
  {
   "cell_type": "code",
   "execution_count": 8,
   "metadata": {
    "collapsed": true
   },
   "outputs": [],
   "source": [
    "tf.reset_default_graph()"
   ]
  },
  {
   "cell_type": "code",
   "execution_count": null,
   "metadata": {
    "collapsed": true
   },
   "outputs": [],
   "source": []
  },
  {
   "cell_type": "code",
   "execution_count": 10,
   "metadata": {
    "collapsed": true
   },
   "outputs": [],
   "source": []
  },
  {
   "cell_type": "code",
   "execution_count": 11,
   "metadata": {
    "collapsed": true
   },
   "outputs": [],
   "source": []
  },
  {
   "cell_type": "code",
   "execution_count": 12,
   "metadata": {
    "collapsed": true
   },
   "outputs": [],
   "source": []
  },
  {
   "cell_type": "code",
   "execution_count": null,
   "metadata": {
    "collapsed": true
   },
   "outputs": [],
   "source": []
  },
  {
   "cell_type": "code",
   "execution_count": null,
   "metadata": {
    "collapsed": true
   },
   "outputs": [],
   "source": []
  },
  {
   "cell_type": "code",
   "execution_count": null,
   "metadata": {
    "collapsed": true
   },
   "outputs": [],
   "source": []
  },
  {
   "cell_type": "code",
   "execution_count": null,
   "metadata": {
    "collapsed": true
   },
   "outputs": [],
   "source": []
  },
  {
   "cell_type": "code",
   "execution_count": null,
   "metadata": {
    "collapsed": true
   },
   "outputs": [],
   "source": []
  },
  {
   "cell_type": "code",
   "execution_count": null,
   "metadata": {
    "collapsed": true
   },
   "outputs": [],
   "source": []
  },
  {
   "cell_type": "code",
   "execution_count": null,
   "metadata": {
    "collapsed": true
   },
   "outputs": [],
   "source": []
  }
 ],
 "metadata": {
  "kernelspec": {
   "display_name": "Python 3",
   "language": "python",
   "name": "python3"
  },
  "language_info": {
   "codemirror_mode": {
    "name": "ipython",
    "version": 3
   },
   "file_extension": ".py",
   "mimetype": "text/x-python",
   "name": "python",
   "nbconvert_exporter": "python",
   "pygments_lexer": "ipython3",
   "version": "3.5.4"
  }
 },
 "nbformat": 4,
 "nbformat_minor": 2
}
