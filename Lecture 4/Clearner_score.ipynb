{
 "cells": [
  {
   "cell_type": "code",
   "execution_count": 70,
   "metadata": {
    "collapsed": true
   },
   "outputs": [],
   "source": [
    "import pandas as pd\n",
    "import numpy as np\n",
    "import re\n",
    "import preprocessor as p\n",
    "from langdetect import detect\n",
    "from string import punctuation\n",
    "from collections import Counter\n",
    "import numpy as np\n",
    "import tensorflow as tf\n",
    "from string import punctuation\n",
    "from collections import Counter\n",
    "import collections\n",
    "import pickle\n",
    "import matplotlib.pyplot as plt\n",
    "import warnings\n",
    "warnings.filterwarnings(\"ignore\")"
   ]
  },
  {
   "cell_type": "code",
   "execution_count": 123,
   "metadata": {},
   "outputs": [
    {
     "data": {
      "text/html": [
       "<div>\n",
       "<style scoped>\n",
       "    .dataframe tbody tr th:only-of-type {\n",
       "        vertical-align: middle;\n",
       "    }\n",
       "\n",
       "    .dataframe tbody tr th {\n",
       "        vertical-align: top;\n",
       "    }\n",
       "\n",
       "    .dataframe thead th {\n",
       "        text-align: right;\n",
       "    }\n",
       "</style>\n",
       "<table border=\"1\" class=\"dataframe\">\n",
       "  <thead>\n",
       "    <tr style=\"text-align: right;\">\n",
       "      <th></th>\n",
       "      <th>username</th>\n",
       "      <th>date</th>\n",
       "      <th>retweets</th>\n",
       "      <th>favorites</th>\n",
       "      <th>text</th>\n",
       "      <th>geo</th>\n",
       "      <th>mentions</th>\n",
       "      <th>hashtags</th>\n",
       "      <th>id</th>\n",
       "      <th>permalink</th>\n",
       "    </tr>\n",
       "  </thead>\n",
       "  <tbody>\n",
       "    <tr>\n",
       "      <th>0</th>\n",
       "      <td>NaN</td>\n",
       "      <td>2016-12-31 23:15</td>\n",
       "      <td>0</td>\n",
       "      <td>0</td>\n",
       "      <td>I'm at Tom's Volvo V60 https://www. swarmapp.c...</td>\n",
       "      <td>NaN</td>\n",
       "      <td>NaN</td>\n",
       "      <td>NaN</td>\n",
       "      <td>815335550639017985</td>\n",
       "      <td>https://twitter.com/_TomMartens/status/8153355...</td>\n",
       "    </tr>\n",
       "    <tr>\n",
       "      <th>1</th>\n",
       "      <td>NaN</td>\n",
       "      <td>2016-12-31 18:57</td>\n",
       "      <td>0</td>\n",
       "      <td>0</td>\n",
       "      <td>Volvo V60 bjr 2013 Ex.BTW 0% Bijtelling!! 2.4 ...</td>\n",
       "      <td>NaN</td>\n",
       "      <td>NaN</td>\n",
       "      <td>NaN</td>\n",
       "      <td>815270789197025284</td>\n",
       "      <td>https://twitter.com/eenhuismanauto/status/8152...</td>\n",
       "    </tr>\n",
       "    <tr>\n",
       "      <th>2</th>\n",
       "      <td>NaN</td>\n",
       "      <td>2016-12-31 16:38</td>\n",
       "      <td>0</td>\n",
       "      <td>0</td>\n",
       "      <td>Volvo V60 1.6 T4 R-DESIGN. 84SZD9 163.430 km P...</td>\n",
       "      <td>NaN</td>\n",
       "      <td>NaN</td>\n",
       "      <td>NaN</td>\n",
       "      <td>815235783774924800</td>\n",
       "      <td>https://twitter.com/vanvlotenoccasi/status/815...</td>\n",
       "    </tr>\n",
       "    <tr>\n",
       "      <th>3</th>\n",
       "      <td>NaN</td>\n",
       "      <td>2016-12-31 15:13</td>\n",
       "      <td>0</td>\n",
       "      <td>0</td>\n",
       "      <td>Volvo V60 bjr 2014 2.0 D4 133kW/181pk 6-bak R-...</td>\n",
       "      <td>NaN</td>\n",
       "      <td>@YouTube</td>\n",
       "      <td>NaN</td>\n",
       "      <td>815214293117501442</td>\n",
       "      <td>https://twitter.com/eenhuismanauto/status/8152...</td>\n",
       "    </tr>\n",
       "    <tr>\n",
       "      <th>4</th>\n",
       "      <td>NaN</td>\n",
       "      <td>2016-12-31 15:11</td>\n",
       "      <td>0</td>\n",
       "      <td>0</td>\n",
       "      <td>Volvo V60 bjr 2014 2.0 D4 133kW/181pk 6-bak R-...</td>\n",
       "      <td>NaN</td>\n",
       "      <td>NaN</td>\n",
       "      <td>NaN</td>\n",
       "      <td>815213875050270724</td>\n",
       "      <td>https://twitter.com/eenhuismanauto/status/8152...</td>\n",
       "    </tr>\n",
       "  </tbody>\n",
       "</table>\n",
       "</div>"
      ],
      "text/plain": [
       "   username              date  retweets  favorites  \\\n",
       "0       NaN  2016-12-31 23:15         0          0   \n",
       "1       NaN  2016-12-31 18:57         0          0   \n",
       "2       NaN  2016-12-31 16:38         0          0   \n",
       "3       NaN  2016-12-31 15:13         0          0   \n",
       "4       NaN  2016-12-31 15:11         0          0   \n",
       "\n",
       "                                                text  geo  mentions hashtags  \\\n",
       "0  I'm at Tom's Volvo V60 https://www. swarmapp.c...  NaN       NaN      NaN   \n",
       "1  Volvo V60 bjr 2013 Ex.BTW 0% Bijtelling!! 2.4 ...  NaN       NaN      NaN   \n",
       "2  Volvo V60 1.6 T4 R-DESIGN. 84SZD9 163.430 km P...  NaN       NaN      NaN   \n",
       "3  Volvo V60 bjr 2014 2.0 D4 133kW/181pk 6-bak R-...  NaN  @YouTube      NaN   \n",
       "4  Volvo V60 bjr 2014 2.0 D4 133kW/181pk 6-bak R-...  NaN       NaN      NaN   \n",
       "\n",
       "                   id                                          permalink  \n",
       "0  815335550639017985  https://twitter.com/_TomMartens/status/8153355...  \n",
       "1  815270789197025284  https://twitter.com/eenhuismanauto/status/8152...  \n",
       "2  815235783774924800  https://twitter.com/vanvlotenoccasi/status/815...  \n",
       "3  815214293117501442  https://twitter.com/eenhuismanauto/status/8152...  \n",
       "4  815213875050270724  https://twitter.com/eenhuismanauto/status/8152...  "
      ]
     },
     "execution_count": 123,
     "metadata": {},
     "output_type": "execute_result"
    }
   ],
   "source": [
    "s='volvov602016'\n",
    "\n",
    "dd=pd.read_csv(s+'.csv',sep=';')\n",
    "dd.head()"
   ]
  },
  {
   "cell_type": "code",
   "execution_count": 124,
   "metadata": {},
   "outputs": [
    {
     "name": "stdout",
     "output_type": "stream",
     "text": [
      "                                          clean_text  retweets  favorites\n",
      "0  New post Review The Volvo V60 T5 AWD Cross Cou...       0.0        0.0\n",
      "1  Volvo V60 Cross Country D4 pk Summum Intellisa...       0.0        0.0\n",
      "2  Road Test Review  Volvo V60 Cross Country Plat...       0.0        0.0\n",
      "3  Ned and his son Grady taking delivery of their...       0.0        0.0\n",
      "4  Volvo V60  The Volvo V60 is the automakers sma...       0.0        0.0 \n",
      " 47 \n",
      "                                            clean_text  retweets  favorites\n",
      "42  Volvo V60 D3 pk Geartronic6 Ocean Race Busines...       0.0        0.0\n",
      "43       Is Due For A Refresh   volvov60duerefresh …        0.0        0.0\n",
      "44  A Look Into The New bhp  polestarutmcampaigncr...       0.0        2.0\n",
      "45  This is what the Volvo V60 could look like if ...       0.0        0.0\n",
      "46  The Volvo V60 DH5 Diesel PlugIn Hybrid Fully C...       0.0        0.0\n"
     ]
    }
   ],
   "source": [
    "\n",
    "\n",
    "def cc(dl,ss):\n",
    "    df=dl\n",
    "    df['clean_text']=pd.Series()\n",
    "    dg=pd.DataFrame()\n",
    "    for i in range(len(df)):\n",
    "        s=str(p.clean(df['text'][i]))\n",
    "        df['clean_text'][i]=s\n",
    "    df['clean_text']=df.clean_text.str.replace('http://','')\n",
    "    df['clean_text']=df.clean_text.str.replace('https://','')\n",
    "    df['clean_text']=df.clean_text.str.replace('$','')\n",
    "    df['clean_text']=df.clean_text.str.replace('»','')\n",
    "    df['clean_text']=df.clean_text.str.replace('-','')\n",
    "    for c in punctuation:\n",
    "        df['clean_text']=df.clean_text.str.replace(c,'')\n",
    "    \n",
    "    dg['clean_text']=pd.Series()\n",
    "    dg['retweets']=pd.Series()\n",
    "    dg['favorites']=pd.Series()\n",
    "    for i in range(len(df)):\n",
    "        if len(str(df['clean_text'][i])) > 20:\n",
    "            try:\n",
    "                x=detect(str(df['clean_text'][i]))\n",
    "            except Exception:\n",
    "                pass\n",
    "        if  x== 'en':\n",
    "            dg.loc[len(dg)]=[df['clean_text'][i],df['retweets'][i],df['favorites'][i]]\n",
    "    temp=open(ss+'.txt','w')\n",
    "    for i in range(len(dg)):\n",
    "        if len(str(dg['clean_text'][i])) < 10:\n",
    "            dg['clean_text'][i]=None\n",
    "    dg.dropna(inplace=True)\n",
    "    dg.index=pd.RangeIndex(len(dg.index))\n",
    "    for i in range(len(dg)):\n",
    "        temp.write(str(dg['clean_text'][i])+'\\n')\n",
    "    temp.close()\n",
    "    return dg\n",
    "ds=cc(dd,s)\n",
    "ds.to_csv('temp.csv',index=None,sep='$')\n",
    "print(ds.head(),'\\n',len(ds),'\\n',ds.tail())"
   ]
  },
  {
   "cell_type": "code",
   "execution_count": 125,
   "metadata": {},
   "outputs": [
    {
     "name": "stdout",
     "output_type": "stream",
     "text": [
      "47\n"
     ]
    }
   ],
   "source": [
    "#ds=pd.read_csv('temp.csv',sep='$')\n",
    "print(len(ds))\n",
    "with open(s+'.txt', 'r') as f:\n",
    "    reviews = f.read()\n",
    "all_text = ''.join([c for c in reviews if c not in punctuation])\n",
    "reviews = all_text.split('\\n')\n",
    "all_text = ''.join(reviews)\n",
    "words = all_text.split()"
   ]
  },
  {
   "cell_type": "code",
   "execution_count": 126,
   "metadata": {
    "collapsed": true,
    "scrolled": true
   },
   "outputs": [],
   "source": [
    "pickle_in = open(\"vocab_to_int.pickle\",\"rb\")\n",
    "vocab_to_int = pickle.load(pickle_in)\n",
    "reviews_ints=[]\n",
    "for each in reviews:\n",
    "    reviews_ints.append([vocab_to_int.get(word,0) for word in each.split()])"
   ]
  },
  {
   "cell_type": "code",
   "execution_count": 127,
   "metadata": {},
   "outputs": [
    {
     "name": "stdout",
     "output_type": "stream",
     "text": [
      "47 [28, 124, 165, 19, 309, 0, 0, 224, 0, 0, 11, 3, 0, 0, 0, 43, 0, 0, 13, 201]\n",
      "Zero-length reviews: 0\n",
      "Maximum review length: 22\n"
     ]
    },
    {
     "data": {
      "text/plain": [
       "47"
      ]
     },
     "execution_count": 127,
     "metadata": {},
     "output_type": "execute_result"
    }
   ],
   "source": [
    "reviews_ints = [r for r in reviews_ints if len(r) > 0]\n",
    "print(len(reviews_ints),reviews_ints[0])\n",
    "review_lens = Counter([len(x) for x in reviews_ints])\n",
    "print(\"Zero-length reviews: {}\".format(review_lens[0]))\n",
    "print(\"Maximum review length: {}\".format(max(review_lens)))\n",
    "seq_len = 30\n",
    "features = np.zeros((len(reviews_ints), seq_len), dtype=int)\n",
    "for i, row in enumerate(reviews_ints):\n",
    "    features[i, -len(row):] = np.array(row)[:seq_len]\n",
    "len(features)"
   ]
  },
  {
   "cell_type": "code",
   "execution_count": null,
   "metadata": {
    "collapsed": true
   },
   "outputs": [],
   "source": []
  },
  {
   "cell_type": "code",
   "execution_count": 128,
   "metadata": {},
   "outputs": [
    {
     "name": "stdout",
     "output_type": "stream",
     "text": [
      "400\n"
     ]
    }
   ],
   "source": [
    "lstm_size = 25\n",
    "lstm_layers = 1\n",
    "batch_size = len(features)\n",
    "learning_rate = 0.001\n",
    "embed_size = 30 \n",
    "n_words = len(vocab_to_int) #+ 1 # Add 1 for 0 added to vocab\n",
    "print(n_words)"
   ]
  },
  {
   "cell_type": "code",
   "execution_count": null,
   "metadata": {
    "collapsed": true
   },
   "outputs": [],
   "source": []
  },
  {
   "cell_type": "code",
   "execution_count": 129,
   "metadata": {},
   "outputs": [
    {
     "name": "stdout",
     "output_type": "stream",
     "text": [
      "INFO:tensorflow:Restoring parameters from checkpoints/sentiment_final_RNN.ckpt\n"
     ]
    }
   ],
   "source": [
    "tf.reset_default_graph()\n",
    "with tf.name_scope('inputs'):\n",
    "    inputs_ = tf.placeholder(tf.int32, [None, 30], name=\"inputs\")\n",
    "    labels_ = tf.placeholder(tf.float32, [None,], name=\"labels\")\n",
    "    keep_prob = tf.placeholder(tf.float32, name=\"keep_prob\")\n",
    "with tf.name_scope(\"Embeddings\"):\n",
    "    embedding = tf.Variable(tf.random_uniform((n_words, embed_size), -1, 1))\n",
    "    embed = tf.nn.embedding_lookup(embedding, inputs_)\n",
    "def lstm_cell():\n",
    "    #lstm = tf.contrib.rnn.BasicLSTMCell(lstm_size, reuse=tf.get_variable_scope().reuse)\n",
    "    lstm=tf.contrib.rnn.BasicRNNCell(num_units=lstm_size,reuse=tf.get_variable_scope().reuse)\n",
    "    return tf.contrib.rnn.DropoutWrapper(lstm, output_keep_prob=keep_prob)\n",
    "with tf.name_scope(\"RNN_layers\"):\n",
    "    cell = tf.contrib.rnn.MultiRNNCell([lstm_cell() for _ in range(lstm_layers)])\n",
    "    initial_state = cell.zero_state(batch_size, tf.float32) \n",
    "    \n",
    "with tf.name_scope(\"RNN_forward\"):\n",
    "    outputs, final_state = tf.nn.dynamic_rnn(cell, embed, initial_state=initial_state)  \n",
    "    \n",
    "with tf.name_scope('predictions'):\n",
    "    predictions = tf.contrib.layers.fully_connected(outputs[:, -1], 1, activation_fn=None)\n",
    "    \n",
    "with tf.name_scope('cost'):\n",
    "    #cost = tf.losses.mean_squared_error(labels_, predictions)\n",
    "    #cost = tf.reduce_mean(tf.nn.sparse_softmax_cross_entropy_with_logits(labels=labels_,logits=predictions))\n",
    "    cost=tf.reduce_mean(tf.squared_difference(labels_,predictions))\n",
    "with tf.name_scope('train'):\n",
    "    optimizer = tf.train.AdamOptimizer(learning_rate).minimize(cost)\n",
    "    \n",
    "with tf.name_scope('validation'):\n",
    "    #correct_pred = tf.equal(tf.cast(tf.round(predictions), tf.int32), labels_)\n",
    "    #accuracy = tf.reduce_mean(tf.cast(correct_pred, tf.float32))\n",
    "    #correct = tf.nn.in_top_k(predictions,labels_ , 1)\n",
    "    #accuracy = tf.reduce_mean(tf.cast(correct, tf.float32))\n",
    "    total_error = tf.reduce_sum(tf.square(labels_ - tf.reduce_mean(labels_)))\n",
    "    unexplained_error = tf.reduce_sum(tf.square(labels_ - predictions))\n",
    "    accuracy = 1- tf.div(total_error, unexplained_error)\n",
    "    \n",
    "tf.summary.histogram('predictions', predictions)\n",
    "tf.summary.scalar('cost', cost)\n",
    "merged = tf.summary.merge_all()\n",
    "\n",
    "saver = tf.train.Saver()\n",
    "with tf.Session() as sess:\n",
    "    saver.restore(sess, \"checkpoints/sentiment_final_RNN.ckpt\")\n",
    "    test_state = sess.run(cell.zero_state(batch_size, tf.float32))\n",
    "    feed = {inputs_: np.array(features),\n",
    "            keep_prob: 1,\n",
    "            initial_state: test_state}\n",
    "    pred=predictions.eval(feed_dict=feed)"
   ]
  },
  {
   "cell_type": "code",
   "execution_count": 130,
   "metadata": {},
   "outputs": [
    {
     "name": "stdout",
     "output_type": "stream",
     "text": [
      "                                          clean_text  retweets  favorites  \\\n",
      "0  New post Review The Volvo V60 T5 AWD Cross Cou...       0.0        0.0   \n",
      "1  Volvo V60 Cross Country D4 pk Summum Intellisa...       0.0        0.0   \n",
      "2  Road Test Review  Volvo V60 Cross Country Plat...       0.0        0.0   \n",
      "3  Ned and his son Grady taking delivery of their...       0.0        0.0   \n",
      "4  Volvo V60  The Volvo V60 is the automakers sma...       0.0        0.0   \n",
      "\n",
      "   sento_anal  \n",
      "0    0.711845  \n",
      "1    0.456815  \n",
      "2    0.511756  \n",
      "3    0.433515  \n",
      "4    0.605128   \n",
      "                                            clean_text  retweets  favorites  \\\n",
      "42  Volvo V60 D3 pk Geartronic6 Ocean Race Busines...       0.0        0.0   \n",
      "43       Is Due For A Refresh   volvov60duerefresh …        0.0        0.0   \n",
      "44  A Look Into The New bhp  polestarutmcampaigncr...       0.0        2.0   \n",
      "45  This is what the Volvo V60 could look like if ...       0.0        0.0   \n",
      "46  The Volvo V60 DH5 Diesel PlugIn Hybrid Fully C...       0.0        0.0   \n",
      "\n",
      "    sento_anal  \n",
      "42    0.580060  \n",
      "43    0.481237  \n",
      "44    0.596727  \n",
      "45    0.324735  \n",
      "46    0.509242  \n"
     ]
    }
   ],
   "source": [
    "al=1\n",
    "bet=1\n",
    "ds['sento_anal']=pred.reshape(-1)\n",
    "print(ds.head(),'\\n',ds.tail())\n",
    "ds.to_csv(s+'_final.csv',index=False,sep='$')"
   ]
  },
  {
   "cell_type": "code",
   "execution_count": 131,
   "metadata": {},
   "outputs": [
    {
     "data": {
      "text/plain": [
       "Index(['clean_text', 'retweets', 'favorites', 'sento_anal'], dtype='object')"
      ]
     },
     "execution_count": 131,
     "metadata": {},
     "output_type": "execute_result"
    }
   ],
   "source": [
    "ds.keys()"
   ]
  },
  {
   "cell_type": "code",
   "execution_count": 104,
   "metadata": {},
   "outputs": [
    {
     "data": {
      "text/plain": [
       "57"
      ]
     },
     "execution_count": 104,
     "metadata": {},
     "output_type": "execute_result"
    }
   ],
   "source": [
    "len(pred)"
   ]
  },
  {
   "cell_type": "code",
   "execution_count": 15,
   "metadata": {},
   "outputs": [
    {
     "data": {
      "text/plain": [
       "88"
      ]
     },
     "execution_count": 15,
     "metadata": {},
     "output_type": "execute_result"
    }
   ],
   "source": [
    "len(ds)"
   ]
  },
  {
   "cell_type": "code",
   "execution_count": null,
   "metadata": {
    "collapsed": true
   },
   "outputs": [],
   "source": []
  }
 ],
 "metadata": {
  "kernelspec": {
   "display_name": "Python 3",
   "language": "python",
   "name": "python3"
  },
  "language_info": {
   "codemirror_mode": {
    "name": "ipython",
    "version": 3
   },
   "file_extension": ".py",
   "mimetype": "text/x-python",
   "name": "python",
   "nbconvert_exporter": "python",
   "pygments_lexer": "ipython3",
   "version": "3.5.4"
  }
 },
 "nbformat": 4,
 "nbformat_minor": 2
}
