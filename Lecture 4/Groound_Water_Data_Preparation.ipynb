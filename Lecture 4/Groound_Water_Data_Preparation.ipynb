{
 "cells": [
  {
   "cell_type": "code",
   "execution_count": 1,
   "metadata": {
    "collapsed": true
   },
   "outputs": [],
   "source": [
    "import pandas as pd\n",
    "import numpy as np\n",
    "from datetime import datetime\n",
    "import matplotlib.pyplot as plt"
   ]
  },
  {
   "cell_type": "markdown",
   "metadata": {
    "collapsed": true
   },
   "source": [
    "\n",
    "df=open('Ground_lvl_data.txt','r+')\n",
    "dg=open('Ground_lvl_data_fixed.txt','w')\n",
    "for line in df:\n",
    "    dg.write(\",\".join(line.split()[0:]) + \"\\n\")\n"
   ]
  },
  {
   "cell_type": "code",
   "execution_count": 2,
   "metadata": {},
   "outputs": [
    {
     "name": "stdout",
     "output_type": "stream",
     "text": [
      "  agency_cd          site_no  parm_code  stat_code      lev_dt lev_va  \\\n",
      "0      USGS  291100082010003      62610          1  01/01/1969  -----   \n",
      "1      USGS  291100082010003      62610          1  01/02/1969  -----   \n",
      "2      USGS  291100082010003      62610          1  01/03/1969  -----   \n",
      "3      USGS  291100082010003      62610          1  01/04/1969  -----   \n",
      "4      USGS  291100082010003      62610          1  01/05/1969  -----   \n",
      "\n",
      "   sl_lev_va lev_status_cd approval_cd  \n",
      "0      44.94             -         [A]  \n",
      "1      44.90             -         [A]  \n",
      "2      44.92             -         [A]  \n",
      "3      44.94             -         [A]  \n",
      "4      44.85             -         [A]  \n"
     ]
    }
   ],
   "source": [
    "df=pd.read_csv('Ground_lvl_data_fixed.txt',sep=',')\n",
    "print(df.head())"
   ]
  },
  {
   "cell_type": "code",
   "execution_count": 8,
   "metadata": {},
   "outputs": [
    {
     "name": "stdout",
     "output_type": "stream",
     "text": [
      "       lev_dt  sl_lev_va\n",
      "0  01/01/1969      44.94\n",
      "1  01/02/1969      44.90\n",
      "2  01/03/1969      44.92\n",
      "3  01/04/1969      44.94\n",
      "4  01/05/1969      44.85\n"
     ]
    }
   ],
   "source": [
    "df=df[['lev_dt','sl_lev_va']]\n",
    "print(df.head())\n",
    "df.to_csv('SemiFGD_.csv',index=False)"
   ]
  },
  {
   "cell_type": "code",
   "execution_count": 21,
   "metadata": {},
   "outputs": [
    {
     "name": "stdout",
     "output_type": "stream",
     "text": [
      "       lev_dt  sl_lev_va\n",
      "0  01/01/1969      44.94\n",
      "1  01/02/1969      44.90\n",
      "2  01/03/1969      44.92\n",
      "3  01/04/1969      44.94\n",
      "4  01/05/1969      44.85\n",
      "       lev_dt  sl_lev_va       date\n",
      "0  01/01/1969      44.94 1969-01-01\n",
      "1  01/02/1969      44.90 1969-01-02\n",
      "2  01/03/1969      44.92 1969-01-03\n",
      "3  01/04/1969      44.94 1969-01-04\n",
      "4  01/05/1969      44.85 1969-01-05\n"
     ]
    }
   ],
   "source": [
    "df=pd.read_csv('SemiFGD_.csv')\n",
    "print(df.head())\n",
    "df['date']=pd.to_datetime(df.lev_dt)\n",
    "print(df.head())\n",
    "df.to_csv('SemiFGD.csv',index=False)"
   ]
  },
  {
   "cell_type": "code",
   "execution_count": 42,
   "metadata": {
    "collapsed": true
   },
   "outputs": [],
   "source": [
    "f=open('Meteo_data_2016_raw.txt','r+')\n",
    "g=open('Meteo_data_2016_fix.txt','w')\n",
    "h=open('Meteo_data_2016.txt','w')\n",
    "for line in f:\n",
    "    g.write(\" \".join(line.split(',')[0:]) + \"\\n\")\n",
    "f.close()\n",
    "g.close()\n",
    "g=open('Meteo_data_2016_fix.txt')\n",
    "for line in g:\n",
    "    h.write(\",\".join(line.split()[0:])+\"\\n\")"
   ]
  },
  {
   "cell_type": "code",
   "execution_count": null,
   "metadata": {
    "collapsed": true
   },
   "outputs": [],
   "source": []
  },
  {
   "cell_type": "code",
   "execution_count": 43,
   "metadata": {},
   "outputs": [
    {
     "name": "stdout",
     "output_type": "stream",
     "text": [
      "   COOPID  YEAR  MONTH  DAY  PRECIPITATION  MAX_TEMP  MIN_TEMP  MEAN_TEMP\n",
      "0   86414  1969      1    1           0.00      73.0      46.0       59.5\n",
      "1   86414  1969      1    2           0.00      58.0      33.0       45.5\n",
      "2   86414  1969      1    3           0.00      60.0      42.0       51.0\n",
      "3   86414  1969      1    4           0.82      58.0      48.0       53.0\n",
      "4   86414  1969      1    5           0.00      49.0      40.0       44.5\n",
      "   YEAR  MONTH  DAY  PRECIPITATION  MAX_TEMP  MIN_TEMP  MEAN_TEMP\n",
      "0  1969      1    1           0.00      73.0      46.0       59.5\n",
      "1  1969      1    2           0.00      58.0      33.0       45.5\n",
      "2  1969      1    3           0.00      60.0      42.0       51.0\n",
      "3  1969      1    4           0.82      58.0      48.0       53.0\n",
      "4  1969      1    5           0.00      49.0      40.0       44.5\n",
      "   YEAR  MONTH  DAY  PRECIPITATION  MAX_TEMP  MIN_TEMP  MEAN_TEMP       date\n",
      "0  1969      1    1           0.00      73.0      46.0       59.5 1969-01-01\n",
      "1  1969      1    2           0.00      58.0      33.0       45.5 1969-01-02\n",
      "2  1969      1    3           0.00      60.0      42.0       51.0 1969-01-03\n",
      "3  1969      1    4           0.82      58.0      48.0       53.0 1969-01-04\n",
      "4  1969      1    5           0.00      49.0      40.0       44.5 1969-01-05\n"
     ]
    }
   ],
   "source": [
    "dg=pd.read_csv('Meteo_data_2016.txt',sep=',')\n",
    "(dg.MEAN_TEMP).apply(float)\n",
    "print(dg.head())\n",
    "dg=dg.drop(['COOPID'],axis=1)\n",
    "print(dg.head())\n",
    "dg['date']=pd.to_datetime((dg.YEAR*10000+dg.MONTH*100+dg.DAY).apply(str),format='%Y%m%d',dayfirst=True,errors='coerce')\n",
    "print(dg.head())\n",
    "dg.to_csv('MetFinal.csv',index=False)"
   ]
  },
  {
   "cell_type": "code",
   "execution_count": 44,
   "metadata": {},
   "outputs": [
    {
     "name": "stdout",
     "output_type": "stream",
     "text": [
      "       lev_dt  sl_lev_va       date  YEAR  MONTH  DAY  PRECIPITATION  \\\n",
      "0  01/01/1969      44.94 1969-01-01  1969      1    1           0.00   \n",
      "1  01/02/1969      44.90 1969-01-02  1969      1    2           0.00   \n",
      "2  01/03/1969      44.92 1969-01-03  1969      1    3           0.00   \n",
      "3  01/04/1969      44.94 1969-01-04  1969      1    4           0.82   \n",
      "4  01/05/1969      44.85 1969-01-05  1969      1    5           0.00   \n",
      "\n",
      "   MAX_TEMP  MIN_TEMP  MEAN_TEMP  \n",
      "0      73.0      46.0       59.5  \n",
      "1      58.0      33.0       45.5  \n",
      "2      60.0      42.0       51.0  \n",
      "3      58.0      48.0       53.0  \n",
      "4      49.0      40.0       44.5  \n",
      "   sl_lev_va       date  PRECIPITATION  MAX_TEMP  MIN_TEMP  MEAN_TEMP\n",
      "0      44.94 1969-01-01           0.00      73.0      46.0       59.5\n",
      "1      44.90 1969-01-02           0.00      58.0      33.0       45.5\n",
      "2      44.92 1969-01-03           0.00      60.0      42.0       51.0\n",
      "3      44.94 1969-01-04           0.82      58.0      48.0       53.0\n",
      "4      44.85 1969-01-05           0.00      49.0      40.0       44.5\n"
     ]
    }
   ],
   "source": [
    "merged=pd.merge(df,dg,on='date')\n",
    "print(merged.head())\n",
    "merged=merged.drop(['lev_dt','YEAR','DAY','MONTH'],axis=1)\n",
    "print(merged.head())"
   ]
  },
  {
   "cell_type": "code",
   "execution_count": 45,
   "metadata": {
    "collapsed": true,
    "scrolled": true
   },
   "outputs": [],
   "source": [
    "merged.to_csv('FinalMerge.csv',index=False)"
   ]
  },
  {
   "cell_type": "code",
   "execution_count": 53,
   "metadata": {},
   "outputs": [
    {
     "name": "stdout",
     "output_type": "stream",
     "text": [
      "   sl_lev_va        date  PRECIPITATION  MAX_TEMP  MIN_TEMP  MEAN_TEMP\n",
      "0      44.94  1969-01-01           0.00      73.0      46.0       59.5\n",
      "1      44.90  1969-01-02           0.00      58.0      33.0       45.5\n",
      "2      44.92  1969-01-03           0.00      60.0      42.0       51.0\n",
      "3      44.94  1969-01-04           0.82      58.0      48.0       53.0\n",
      "4      44.85  1969-01-05           0.00      49.0      40.0       44.5\n",
      "            sl_lev_va        date  PRECIPITATION  MAX_TEMP  MIN_TEMP  \\\n",
      "date                                                                   \n",
      "1969-01-01      44.94  1969-01-01           0.00      73.0      46.0   \n",
      "1969-01-02      44.90  1969-01-02           0.00      58.0      33.0   \n",
      "1969-01-03      44.92  1969-01-03           0.00      60.0      42.0   \n",
      "1969-01-04      44.94  1969-01-04           0.82      58.0      48.0   \n",
      "1969-01-05      44.85  1969-01-05           0.00      49.0      40.0   \n",
      "\n",
      "            MEAN_TEMP  \n",
      "date                   \n",
      "1969-01-01       59.5  \n",
      "1969-01-02       45.5  \n",
      "1969-01-03       51.0  \n",
      "1969-01-04       53.0  \n",
      "1969-01-05       44.5  \n",
      "            sl_lev_va        date  PRECIPITATION  MAX_TEMP  MIN_TEMP  \\\n",
      "date                                                                   \n",
      "2015-09-28      43.60  2015-09-28           0.11      84.0      74.0   \n",
      "2015-09-29      43.66  2015-09-29           1.05      83.0      73.0   \n",
      "2015-09-30      43.74  2015-09-30           0.36      91.0      76.0   \n",
      "2015-10-01      43.80  2015-10-01           0.00      90.0      75.0   \n",
      "2015-10-02      43.80  2015-10-02           0.02      85.0      73.0   \n",
      "\n",
      "            MEAN_TEMP  sl_lev_va_last_year  \n",
      "date                                        \n",
      "2015-09-28        NaN                43.02  \n",
      "2015-09-29        NaN                43.06  \n",
      "2015-09-30        NaN                43.09  \n",
      "2015-10-01        NaN                43.14  \n",
      "2015-10-02        NaN                43.17   \n",
      " date\n",
      "2015-09-28    43.60\n",
      "2015-09-29    43.66\n",
      "2015-09-30    43.74\n",
      "2015-10-01    43.80\n",
      "2015-10-02    43.80\n",
      "Name: sl_lev_va, dtype: float64\n"
     ]
    }
   ],
   "source": [
    "FM=pd.read_csv('FinalMerge.csv')\n",
    "print(FM.head())\n",
    "FM.index=FM.date\n",
    "print(FM.head())\n",
    "FM['sl_lev_va_last_year']=FM['sl_lev_va'].shift(30)\n",
    "test_labels=FM['sl_lev_va'].iloc[30:]\n",
    "print(FM.tail(),'\\n',test_labels.tail())\n",
    "test_labels.to_csv('test_labels.csv')\n",
    "FM.dropna()\n",
    "FM.to_csv('FinalMerge_RegReady.csv')"
   ]
  },
  {
   "cell_type": "code",
   "execution_count": 54,
   "metadata": {},
   "outputs": [
    {
     "name": "stdout",
     "output_type": "stream",
     "text": [
      "             data        date\n",
      "date                         \n",
      "1969-01-31  44.51  1969-01-31\n",
      "1969-02-01  44.50  1969-02-01\n",
      "1969-02-02  44.49  1969-02-02\n",
      "1969-02-03  44.48  1969-02-03\n",
      "1969-02-04  44.47  1969-02-04\n"
     ]
    }
   ],
   "source": [
    "test_labels=pd.read_csv('test_labels.csv',header=None)\n",
    "test_labels['data']=test_labels[1]\n",
    "test_labels['date']=test_labels[0]\n",
    "test_labels=test_labels.drop([0,1],axis=1)\n",
    "test_labels.index=test_labels['date']\n",
    "print(test_labels.head())\n",
    "FM.dropna(inplace=True)"
   ]
  },
  {
   "cell_type": "code",
   "execution_count": 55,
   "metadata": {
    "collapsed": true
   },
   "outputs": [],
   "source": [
    "\n",
    "from sklearn import preprocessing \n",
    "from sklearn.linear_model import LinearRegression\n",
    "from sklearn.model_selection import train_test_split\n",
    "from sklearn.metrics import r2_score as r2"
   ]
  },
  {
   "cell_type": "code",
   "execution_count": 56,
   "metadata": {},
   "outputs": [
    {
     "name": "stdout",
     "output_type": "stream",
     "text": [
      "         date  sl_lev_va      date.1  PRECIPITATION  MAX_TEMP  MIN_TEMP  \\\n",
      "0  1969-01-01      44.94  1969-01-01           0.00      73.0      46.0   \n",
      "1  1969-01-02      44.90  1969-01-02           0.00      58.0      33.0   \n",
      "2  1969-01-03      44.92  1969-01-03           0.00      60.0      42.0   \n",
      "3  1969-01-04      44.94  1969-01-04           0.82      58.0      48.0   \n",
      "4  1969-01-05      44.85  1969-01-05           0.00      49.0      40.0   \n",
      "5  1969-01-06      44.83  1969-01-06           0.00      63.0      39.0   \n",
      "6  1969-01-07      44.81  1969-01-07           0.00      66.0      38.0   \n",
      "7  1969-01-08      44.80  1969-01-08           0.00      69.0      38.0   \n",
      "8  1969-01-09      44.80  1969-01-09           0.00      75.0      50.0   \n",
      "9  1969-01-10      44.79  1969-01-10           0.15      71.0      49.0   \n",
      "\n",
      "   MEAN_TEMP  sl_lev_va_last_year  \n",
      "0       59.5                  NaN  \n",
      "1       45.5                  NaN  \n",
      "2       51.0                  NaN  \n",
      "3       53.0                  NaN  \n",
      "4       44.5                  NaN  \n",
      "5       51.0                  NaN  \n",
      "6       52.0                  NaN  \n",
      "7       53.5                  NaN  \n",
      "8       62.5                  NaN  \n",
      "9       60.0                  NaN  \n",
      "date                    object\n",
      "sl_lev_va              float64\n",
      "date.1                  object\n",
      "PRECIPITATION          float64\n",
      "MAX_TEMP               float64\n",
      "MIN_TEMP               float64\n",
      "MEAN_TEMP              float64\n",
      "sl_lev_va_last_year    float64\n",
      "dtype: object\n"
     ]
    }
   ],
   "source": [
    "FM=pd.read_csv('FinalMerge_RegReady.csv')\n",
    "print(FM[FM.keys()[:]][:10])\n",
    "print(FM.dtypes)"
   ]
  },
  {
   "cell_type": "code",
   "execution_count": 57,
   "metadata": {
    "collapsed": true
   },
   "outputs": [],
   "source": [
    "FM.dropna(inplace=True)\n",
    "A=FM.drop(['sl_lev_va','date','date.1'],axis=1)\n",
    "X=np.array(A,dtype=np.float32)\n",
    "y=np.array(FM['sl_lev_va'][:][:])"
   ]
  },
  {
   "cell_type": "code",
   "execution_count": 58,
   "metadata": {},
   "outputs": [
    {
     "name": "stdout",
     "output_type": "stream",
     "text": [
      "[[  0.00000000e+00   7.70000000e+01   5.10000000e+01   6.40000000e+01\n",
      "    4.49399986e+01]\n",
      " [  0.00000000e+00   7.90000000e+01   5.30000000e+01   6.60000000e+01\n",
      "    4.49000015e+01]\n",
      " [  0.00000000e+00   8.10000000e+01   5.30000000e+01   6.70000000e+01\n",
      "    4.49199982e+01]\n",
      " [  9.99999978e-03   7.90000000e+01   6.20000000e+01   7.05000000e+01\n",
      "    4.49399986e+01]\n",
      " [  0.00000000e+00   6.30000000e+01   4.00000000e+01   5.15000000e+01\n",
      "    4.48499985e+01]\n",
      " [  0.00000000e+00   6.70000000e+01   3.50000000e+01   5.10000000e+01\n",
      "    4.48300018e+01]\n",
      " [  9.99999978e-03   6.50000000e+01   4.20000000e+01   5.35000000e+01\n",
      "    4.48100014e+01]\n",
      " [  0.00000000e+00   8.00000000e+01   5.80000000e+01   6.90000000e+01\n",
      "    4.47999992e+01]\n",
      " [  1.63999999e+00   7.90000000e+01   5.70000000e+01   6.80000000e+01\n",
      "    4.47999992e+01]\n",
      " [  0.00000000e+00   6.60000000e+01   5.30000000e+01   5.95000000e+01\n",
      "    4.47900009e+01]] \n",
      " [ 44.51  44.5   44.49  44.48  44.47  44.46  44.45  44.44  44.43  44.42]\n"
     ]
    }
   ],
   "source": [
    "print(X[:10],'\\n',y[:10])"
   ]
  },
  {
   "cell_type": "code",
   "execution_count": 59,
   "metadata": {},
   "outputs": [
    {
     "name": "stdout",
     "output_type": "stream",
     "text": [
      "Training Accuracy 0.870301337574\n",
      "testing Accuracy 0.884867277036\n"
     ]
    }
   ],
   "source": [
    "x_train,x_test,y_train,y_test=train_test_split(X, y, test_size=0.2)\n",
    "clf=LinearRegression()\n",
    "clf.fit(x_train,y_train)\n",
    "Accuracy_train=clf.score(x_train,y_train)\n",
    "print('Training Accuracy',Accuracy_train)\n",
    "Accuracy_test=clf.score(x_test,y_test)\n",
    "print('testing Accuracy',Accuracy_test)"
   ]
  },
  {
   "cell_type": "code",
   "execution_count": null,
   "metadata": {
    "collapsed": true
   },
   "outputs": [],
   "source": []
  },
  {
   "cell_type": "code",
   "execution_count": null,
   "metadata": {
    "collapsed": true
   },
   "outputs": [],
   "source": []
  }
 ],
 "metadata": {
  "kernelspec": {
   "display_name": "Python 3",
   "language": "python",
   "name": "python3"
  },
  "language_info": {
   "codemirror_mode": {
    "name": "ipython",
    "version": 3
   },
   "file_extension": ".py",
   "mimetype": "text/x-python",
   "name": "python",
   "nbconvert_exporter": "python",
   "pygments_lexer": "ipython3",
   "version": "3.5.4"
  }
 },
 "nbformat": 4,
 "nbformat_minor": 2
}
