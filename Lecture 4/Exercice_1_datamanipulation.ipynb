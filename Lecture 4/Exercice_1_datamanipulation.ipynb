{
 "cells": [
  {
   "cell_type": "code",
   "execution_count": 1,
   "metadata": {},
   "outputs": [
    {
     "name": "stdout",
     "output_type": "stream",
     "text": [
      "Numpy Version -> 1.13.3  ---  Pandas Version -> 0.21.1\n"
     ]
    }
   ],
   "source": [
    "import pandas as pd\n",
    "import numpy as np\n",
    "print('Numpy Version ->',np.__version__,' --- ','Pandas Version ->',pd.__version__)"
   ]
  },
  {
   "cell_type": "code",
   "execution_count": 3,
   "metadata": {},
   "outputs": [
    {
     "name": "stdout",
     "output_type": "stream",
     "text": [
      "0      ball\n",
      "1    pencil\n",
      "Name: id, dtype: object\n"
     ]
    }
   ],
   "source": [
    "#What Does This line Do?\n",
    "#What phase are we in Now?\n",
    "frame1 = pd.DataFrame( {'id':['ball','pencil','pen','mug','ashtray'],\n",
    "                        'price': [12.33,11.44,33.21,13.23,33.62]})\n",
    "print(frame1['id'][:2])\n",
    "#Print Column by Columns"
   ]
  },
  {
   "cell_type": "code",
   "execution_count": 4,
   "metadata": {},
   "outputs": [
    {
     "name": "stdout",
     "output_type": "stream",
     "text": [
      "        id  price\n",
      "0     ball  12.33\n",
      "1   pencil  11.44\n",
      "2      pen  33.21\n",
      "3      mug  13.23\n",
      "4  ashtray  33.62\n"
     ]
    }
   ],
   "source": [
    "#Save This DataSet to a csv file\n",
    "frame1.to_csv('Mark_1.csv',index=False)\n",
    "#Load the DataSet from the csv file\n",
    "frame1_mark1=pd.read_csv('Mark_1.csv')\n",
    "#-----\n",
    "print(frame1_mark1)\n",
    "#what went wrong? how can we remedy this?"
   ]
  },
  {
   "cell_type": "code",
   "execution_count": 57,
   "metadata": {},
   "outputs": [
    {
     "name": "stdout",
     "output_type": "stream",
     "text": [
      "   color      id\n",
      "0  white  pencil\n",
      "1    red  pencil\n",
      "2    red    ball\n",
      "3  black     pen\n"
     ]
    }
   ],
   "source": [
    "#Create a nother dataset\n",
    "frame2 = pd.DataFrame( {'id':['pencil','pencil','ball','pen'],'color': ['white','red','red','black']})\n",
    "print(frame2)"
   ]
  },
  {
   "cell_type": "code",
   "execution_count": 20,
   "metadata": {},
   "outputs": [
    {
     "name": "stdout",
     "output_type": "stream",
     "text": [
      "       id  price  color\n",
      "0    ball  12.33    red\n",
      "1  pencil  11.44  white\n",
      "2  pencil  11.44    red\n",
      "3     pen  33.21  black\n"
     ]
    }
   ],
   "source": [
    "#Merge the two dataSets into one data set containing the price and the color\n",
    "merged=pd.merge(frame1,frame2)\n",
    "print(merged)\n",
    "#he did the merging based on what ?"
   ]
  },
  {
   "cell_type": "code",
   "execution_count": 21,
   "metadata": {},
   "outputs": [
    {
     "name": "stdout",
     "output_type": "stream",
     "text": [
      "Empty DataFrame\n",
      "Columns: [brand, color, id]\n",
      "Index: []\n"
     ]
    }
   ],
   "source": [
    "#create a two more datasets sharing more than one column and two others no column sharing and merge the two\n",
    "frame1_tcs=pd.DataFrame( {'id':['ball','pencil','pen','mug','ashtray'],\n",
    "                          'color': ['white','red','red','black','green'],\n",
    "                          'brand': ['OMG','ABC','ABC','POD','POD']})\n",
    "frame2_tcs=pd.DataFrame( {'id':['pencil','pencil','ball','pen'],\n",
    "                                   'brand': ['OMG','POD','ABC','POD']})\n",
    "merged_tcs=pd.merge(frame1_tcs,frame2_tcs)\n",
    "print(merged_tcs)\n",
    "#fix this based on ID"
   ]
  },
  {
   "cell_type": "code",
   "execution_count": 22,
   "metadata": {},
   "outputs": [
    {
     "name": "stdout",
     "output_type": "stream",
     "text": [
      "  brand_x  color      id brand_y\n",
      "0     OMG  white    ball     ABC\n",
      "1     ABC    red  pencil     OMG\n",
      "2     ABC    red  pencil     POD\n",
      "3     ABC    red     pen     POD\n"
     ]
    }
   ],
   "source": [
    "merged_tcs=pd.merge(frame1_tcs,frame2_tcs,on='id')\n",
    "print(merged_tcs)\n",
    "#do another merge for brand"
   ]
  },
  {
   "cell_type": "code",
   "execution_count": 5,
   "metadata": {
    "scrolled": true
   },
   "outputs": [
    {
     "name": "stdout",
     "output_type": "stream",
     "text": [
      "        id  price  COLOR      ID brand\n",
      "0     ball  12.33  white    ball   OMG\n",
      "1   pencil  11.44    red  pencil   POD\n",
      "2      pen  33.21    red     pen   ABC\n",
      "3      mug  13.23  black     mug   POD\n",
      "4  ashtray  33.62    NaN     NaN   NaN\n",
      "5      NaN    NaN  green     sys   ABC\n"
     ]
    }
   ],
   "source": [
    "frame3_ncs=pd.DataFrame( {'ID':['ball','pencil','pen','mug','sys'],\n",
    "                                      'COLOR': ['white','red','red','black','green'],\n",
    "                                      'brand': ['OMG','POD','ABC','POD','ABC']})\n",
    "merged_ncs=pd.merge(frame1,frame3_ncs,left_on='id',right_on='ID',how='outer')\n",
    "print(merged_ncs)\n",
    "#Do another one with color / change the ID to a miss match "
   ]
  },
  {
   "cell_type": "code",
   "execution_count": 8,
   "metadata": {},
   "outputs": [
    {
     "name": "stdout",
     "output_type": "stream",
     "text": [
      "        id  price  COLOR      ID brand\n",
      "0     ball  12.33  white    ball   OMG\n",
      "1   pencil  11.44    red  pencil   POD\n",
      "2      pen  33.21    red     pen   ABC\n",
      "3      mug  13.23  black     mug   POD\n",
      "4  ashtray  33.62  green     sys   ABC\n"
     ]
    }
   ],
   "source": [
    "#use joint to merge by index\n",
    "join=frame1.join(frame3_ncs)\n",
    "print(join)\n",
    "#use this on the other datasets"
   ]
  },
  {
   "cell_type": "code",
   "execution_count": 71,
   "metadata": {},
   "outputs": [
    {
     "name": "stdout",
     "output_type": "stream",
     "text": [
      "1    0.435092\n",
      "2    0.560027\n",
      "3    0.012283\n",
      "4    0.502112\n",
      "5    0.738180\n",
      "6    0.263800\n",
      "7    0.381160\n",
      "8    0.723503\n",
      "dtype: float64 \n",
      " 1  1    0.435092\n",
      "   2    0.560027\n",
      "   3    0.012283\n",
      "   4    0.502112\n",
      "2  5    0.738180\n",
      "   6    0.263800\n",
      "   7    0.381160\n",
      "   8    0.723503\n",
      "dtype: float64 \n",
      "           1         2\n",
      "1  0.435092       NaN\n",
      "2  0.560027       NaN\n",
      "3  0.012283       NaN\n",
      "4  0.502112       NaN\n",
      "5       NaN  0.738180\n",
      "6       NaN  0.263800\n",
      "7       NaN  0.381160\n",
      "8       NaN  0.723503\n"
     ]
    }
   ],
   "source": [
    "#Pandas Series\n",
    "ser1 = pd.Series(np.random.rand(4), index=[1,2,3,4])\n",
    "ser2 = pd.Series(np.random.rand(4), index=[5,6,7,8])\n",
    "A=pd.concat([ser1,ser2])\n",
    "B=pd.concat([ser1,ser2], keys=[1,2])\n",
    "C=pd.concat([ser1,ser2], axis=1, keys=[1,2])\n",
    "D=ser1.shift(-2)\n",
    "#execute and print ?\n",
    "print(A,'\\n',B,'\\n',C)"
   ]
  },
  {
   "cell_type": "code",
   "execution_count": 74,
   "metadata": {},
   "outputs": [
    {
     "name": "stdout",
     "output_type": "stream",
     "text": [
      "[[ 0.43509152  0.0122832 ]\n",
      " [ 0.560027    0.50211234]\n",
      " [ 0.0122832   0.73817996]\n",
      " [ 0.50211234  0.26379954]\n",
      " [ 0.73817996  0.38116017]\n",
      " [ 0.26379954  0.72350295]\n",
      " [ 0.38116017         nan]\n",
      " [ 0.72350295         nan]]\n"
     ]
    }
   ],
   "source": [
    "A_minus_twolastrows=A.shift(-2)\n",
    "print(np.stack([A,A_minus_twolastrows],axis=1))"
   ]
  },
  {
   "cell_type": "code",
   "execution_count": 45,
   "metadata": {
    "collapsed": true
   },
   "outputs": [],
   "source": [
    "#do the same thing for dataframes 2 by 2\n",
    "frame1 = pd.DataFrame(np.random.rand(9).reshape(3,3), index=[1,2,3],columns=['A','B','C'])\n",
    "frame2 = pd.DataFrame(np.random.rand(9).reshape(3,3), index=[1,2,3],columns=['A','B','C'])\n",
    "frame3 = pd.DataFrame(np.random.rand(9).reshape(3,3), index=[1,2,3],columns=['D','E','F'])\n",
    "frame4 = pd.DataFrame(np.random.rand(9).reshape(3,3), index=[4,5,6],columns=['A','B','C'])\n",
    "frame5 = pd.DataFrame(np.random.rand(9).reshape(3,3), index=[4,5,6],columns=['D','E','F'])"
   ]
  },
  {
   "cell_type": "code",
   "execution_count": 52,
   "metadata": {},
   "outputs": [
    {
     "name": "stdout",
     "output_type": "stream",
     "text": [
      "          A         B         C\n",
      "1  0.785975  0.722894  0.994971\n",
      "2  0.511977  0.204416  0.858260\n",
      "3  0.350950  0.756996  0.925614\n",
      "1  0.892940  0.505055  0.024466\n",
      "2  0.026971  0.083542  0.725766\n",
      "3  0.446142  0.330206  0.170514 \n",
      "           A         B         C         A         B         C\n",
      "1  0.785975  0.722894  0.994971       NaN       NaN       NaN\n",
      "2  0.511977  0.204416  0.858260       NaN       NaN       NaN\n",
      "3  0.350950  0.756996  0.925614       NaN       NaN       NaN\n",
      "4       NaN       NaN       NaN  0.094044  0.401516  0.930938\n",
      "5       NaN       NaN       NaN  0.024151  0.804281  0.379155\n",
      "6       NaN       NaN       NaN  0.317212  0.738282  0.177645\n"
     ]
    }
   ],
   "source": [
    "A=pd.concat([frame1, frame2])\n",
    "B=pd.concat([frame1, frame4],axis=1)\n",
    "print(A,'\\n',B)"
   ]
  },
  {
   "cell_type": "code",
   "execution_count": 55,
   "metadata": {
    "collapsed": true
   },
   "outputs": [],
   "source": [
    "#Do some data manipulation with B"
   ]
  },
  {
   "cell_type": "markdown",
   "metadata": {},
   "source": []
  },
  {
   "cell_type": "code",
   "execution_count": null,
   "metadata": {
    "collapsed": true
   },
   "outputs": [],
   "source": []
  }
 ],
 "metadata": {
  "kernelspec": {
   "display_name": "Python 3",
   "language": "python",
   "name": "python3"
  },
  "language_info": {
   "codemirror_mode": {
    "name": "ipython",
    "version": 3
   },
   "file_extension": ".py",
   "mimetype": "text/x-python",
   "name": "python",
   "nbconvert_exporter": "python",
   "pygments_lexer": "ipython3",
   "version": "3.5.4"
  }
 },
 "nbformat": 4,
 "nbformat_minor": 2
}
